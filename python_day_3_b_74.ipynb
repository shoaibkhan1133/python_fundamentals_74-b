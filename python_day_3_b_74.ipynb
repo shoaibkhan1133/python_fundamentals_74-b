{
 "cells": [
  {
   "cell_type": "code",
   "execution_count": 3,
   "id": "50a7fab0",
   "metadata": {},
   "outputs": [
    {
     "name": "stdout",
     "output_type": "stream",
     "text": [
      "shoaib khan\n"
     ]
    }
   ],
   "source": [
    "first_name='shoaib'\n",
    "last_name='khan'\n",
    "full_name=f\"{first_name} {last_name}\"\n",
    "print(full_name)"
   ]
  },
  {
   "cell_type": "code",
   "execution_count": 4,
   "id": "13bc068d",
   "metadata": {},
   "outputs": [],
   "source": [
    "message=f\"keep up the good work,{full_name}\""
   ]
  },
  {
   "cell_type": "code",
   "execution_count": 5,
   "id": "19a712d2",
   "metadata": {},
   "outputs": [
    {
     "name": "stdout",
     "output_type": "stream",
     "text": [
      "keep up the good work,shoaib khan\n"
     ]
    }
   ],
   "source": [
    "print(message)"
   ]
  },
  {
   "cell_type": "code",
   "execution_count": 6,
   "id": "e84e2b5c",
   "metadata": {},
   "outputs": [],
   "source": [
    "#adding the whitespaces"
   ]
  },
  {
   "cell_type": "code",
   "execution_count": 7,
   "id": "9f0306ac",
   "metadata": {},
   "outputs": [
    {
     "name": "stdout",
     "output_type": "stream",
     "text": [
      "ilikeapple\n"
     ]
    }
   ],
   "source": [
    "print('ilikeapple')"
   ]
  },
  {
   "cell_type": "code",
   "execution_count": 8,
   "id": "3931adc9",
   "metadata": {},
   "outputs": [
    {
     "name": "stdout",
     "output_type": "stream",
     "text": [
      "\n",
      "i\n",
      "like\n",
      "apple\n"
     ]
    }
   ],
   "source": [
    "print('\\ni\\nlike\\napple')"
   ]
  },
  {
   "cell_type": "code",
   "execution_count": 9,
   "id": "45b36c81",
   "metadata": {},
   "outputs": [],
   "source": [
    "#removinf whitespaces from strings"
   ]
  },
  {
   "cell_type": "code",
   "execution_count": 10,
   "id": "b2728ad4",
   "metadata": {},
   "outputs": [
    {
     "name": "stdout",
     "output_type": "stream",
     "text": [
      "python\n"
     ]
    }
   ],
   "source": [
    "name='python'\n",
    "print(name)"
   ]
  },
  {
   "cell_type": "code",
   "execution_count": 11,
   "id": "1e38f5cc",
   "metadata": {},
   "outputs": [],
   "source": [
    "name1='   python'"
   ]
  },
  {
   "cell_type": "code",
   "execution_count": 12,
   "id": "1b79bbfa",
   "metadata": {},
   "outputs": [
    {
     "name": "stdout",
     "output_type": "stream",
     "text": [
      "   python\n"
     ]
    }
   ],
   "source": [
    "print(name1)"
   ]
  },
  {
   "cell_type": "code",
   "execution_count": 13,
   "id": "9583e8cb",
   "metadata": {},
   "outputs": [
    {
     "name": "stdout",
     "output_type": "stream",
     "text": [
      "python   \n"
     ]
    }
   ],
   "source": [
    "name2='python   '\n",
    "print(name2)"
   ]
  },
  {
   "cell_type": "code",
   "execution_count": 14,
   "id": "ab0880a5",
   "metadata": {},
   "outputs": [
    {
     "name": "stdout",
     "output_type": "stream",
     "text": [
      "   python\n"
     ]
    }
   ],
   "source": [
    "name3=   '   python'\n",
    "print(name3)"
   ]
  },
  {
   "cell_type": "code",
   "execution_count": 15,
   "id": "866ea3c8",
   "metadata": {},
   "outputs": [
    {
     "data": {
      "text/plain": [
       "'python'"
      ]
     },
     "execution_count": 15,
     "metadata": {},
     "output_type": "execute_result"
    }
   ],
   "source": [
    "name2.strip()"
   ]
  },
  {
   "cell_type": "code",
   "execution_count": null,
   "id": "26ceaa12",
   "metadata": {},
   "outputs": [],
   "source": []
  }
 ],
 "metadata": {
  "kernelspec": {
   "display_name": "Python 3 (ipykernel)",
   "language": "python",
   "name": "python3"
  },
  "language_info": {
   "codemirror_mode": {
    "name": "ipython",
    "version": 3
   },
   "file_extension": ".py",
   "mimetype": "text/x-python",
   "name": "python",
   "nbconvert_exporter": "python",
   "pygments_lexer": "ipython3",
   "version": "3.9.13"
  }
 },
 "nbformat": 4,
 "nbformat_minor": 5
}
